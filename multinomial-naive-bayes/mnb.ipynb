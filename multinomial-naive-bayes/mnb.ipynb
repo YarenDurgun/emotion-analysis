{
 "cells": [
  {
   "cell_type": "code",
   "execution_count": 1,
   "metadata": {
    "id": "lGn8lqEO6rM1"
   },
   "outputs": [],
   "source": [
    "from collections import defaultdict\n",
    "import pandas as pd\n",
    "import numpy as np\n",
    "import io\n",
    "import seaborn as sns\n",
    "import matplotlib.pyplot as plt\n",
    "\n",
    "import nltk\n",
    "#nltk.download () # Download only required or all -> press d, type all, type quit after\n",
    "from nltk.tokenize import word_tokenize\n",
    "from nltk import pos_tag\n",
    "from nltk.corpus import stopwords\n",
    "from nltk.stem import WordNetLemmatizer\n",
    "from nltk.corpus import wordnet as wn\n",
    "from nltk.stem.snowball import SnowballStemmer\n",
    "from sklearn.model_selection import train_test_split\n",
    "\n",
    "from sklearn.metrics import precision_score, accuracy_score, f1_score, confusion_matrix, recall_score\n",
    "from sklearn.feature_extraction.text import CountVectorizer\n",
    "from sklearn.naive_bayes import MultinomialNB"
   ]
  },
  {
   "cell_type": "code",
   "execution_count": 2,
   "metadata": {
    "id": "wfhBZiBj9_Ac"
   },
   "outputs": [],
   "source": [
    "train_path = \"content/training.csv\"\n",
    "val_path = \"content/validation.csv\"\n",
    "test_path = \"content/test.csv\"\n",
    "\n",
    "train_df = pd.read_csv(train_path)\n",
    "val_df = pd.read_csv(val_path)\n",
    "test_df = pd.read_csv(test_path)"
   ]
  },
  {
   "cell_type": "code",
   "execution_count": 3,
   "metadata": {},
   "outputs": [
    {
     "data": {
      "text/plain": [
       "<BarContainer object of 6 artists>"
      ]
     },
     "execution_count": 3,
     "metadata": {},
     "output_type": "execute_result"
    },
    {
     "data": {
      "image/png": "[encoded data removed]",
      "text/plain": [
       "<Figure size 640x480 with 1 Axes>"
      ]
     },
     "metadata": {},
     "output_type": "display_data"
    }
   ],
   "source": [
    "sadness = train_df[train_df['label'] == 0]\n",
    "joy = train_df[train_df['label'] == 1]\n",
    "love = train_df[train_df['label'] == 2]\n",
    "anger = train_df[train_df['label'] == 3]\n",
    "fear = train_df[train_df['label'] == 4]\n",
    "suprise = train_df[train_df['label'] == 5]\n",
    "\n",
    "x = [\"Sadness\", \"Joy\", \"Love\", \"Anger\", \"Fear\", \"Surprise\"]\n",
    "y = [len(sadness), len(joy), len(love), len(anger), len(fear), len(suprise)]\n",
    "\n",
    "plt.yticks(y)\n",
    "plt.xlabel(\"Class Labels\")\n",
    "plt.ylabel(\"Number of Instances\")\n",
    "plt.title(\"Training Data\")\n",
    "plt.bar(x,y)"
   ]
  },
  {
   "cell_type": "markdown",
   "metadata": {},
   "source": [
    "Tokenization method to tokenize our datasets"
   ]
  },
  {
   "cell_type": "code",
   "execution_count": 4,
   "metadata": {
    "id": "FreHSkdM-eE8"
   },
   "outputs": [],
   "source": [
    "def tokenize(column):\n",
    "    tokens = nltk.word_tokenize(column)\n",
    "    return [w for w in tokens if w.isalpha()]  "
   ]
  },
  {
   "cell_type": "code",
   "execution_count": 5,
   "metadata": {
    "id": "IourfoJ4AG_A"
   },
   "outputs": [
    {
     "name": "stdout",
     "output_type": "stream",
     "text": [
      "0                             [i, didnt, feel, humiliated]\n",
      "1        [i, can, go, from, feeling, so, hopeless, to, ...\n",
      "2        [im, grabbing, a, minute, to, post, i, feel, g...\n",
      "3        [i, am, ever, feeling, nostalgic, about, the, ...\n",
      "4                                [i, am, feeling, grouchy]\n",
      "                               ...                        \n",
      "15995    [i, just, had, a, very, brief, time, in, the, ...\n",
      "15996    [i, am, now, turning, and, i, feel, pathetic, ...\n",
      "15997                [i, feel, strong, and, good, overall]\n",
      "15998    [i, feel, like, this, was, such, a, rude, comm...\n",
      "15999    [i, know, a, lot, but, i, feel, so, stupid, be...\n",
      "Name: tokenized, Length: 16000, dtype: object\n"
     ]
    }
   ],
   "source": [
    "train_df['tokenized'] = train_df.apply(lambda x: tokenize(x['text']), axis=1)\n",
    "val_df['tokenized'] = val_df.apply(lambda x: tokenize(x['text']), axis=1)\n",
    "test_df['tokenized'] = test_df.apply(lambda x: tokenize(x['text']), axis=1)\n",
    "\n",
    "print(train_df['tokenized'])"
   ]
  },
  {
   "cell_type": "code",
   "execution_count": 6,
   "metadata": {
    "colab": {
     "base_uri": "https://localhost:8080/"
    },
    "id": "ouC8E6rhFDVx",
    "outputId": "9a1337af-aeec-4821-fcd2-71ad455645ba"
   },
   "outputs": [],
   "source": [
    "lmtzr = WordNetLemmatizer()\n",
    "train_df['lemmatized'] = train_df['tokenized'].apply(\n",
    "                    lambda lst:[lmtzr.lemmatize(word) for word in lst])\n",
    "val_df['lemmatized'] = val_df['tokenized'].apply(\n",
    "                   lambda lst:[lmtzr.lemmatize(word) for word in lst])\n",
    "test_df['lemmatized'] = test_df['tokenized'].apply(\n",
    "                   lambda lst:[lmtzr.lemmatize(word) for word in lst])"
   ]
  },
  {
   "cell_type": "markdown",
   "metadata": {
    "id": "uAblLA67bLeP"
   },
   "source": [
    "Stemming"
   ]
  },
  {
   "cell_type": "code",
   "execution_count": 7,
   "metadata": {
    "colab": {
     "base_uri": "https://localhost:8080/",
     "height": 425
    },
    "id": "rFFieocabM64",
    "outputId": "3923126b-175c-4195-97b0-076a8ea3ce24",
    "scrolled": true
   },
   "outputs": [],
   "source": [
    "stemmer = SnowballStemmer(\"english\")\n",
    "train_df['stemmed'] = train_df.lemmatized.map(lambda l: [stemmer.stem(word) for word in l])\n",
    "train_df.stemmed = train_df.stemmed.str.join(sep=' ')\n",
    "\n",
    "val_df['stemmed'] = val_df.lemmatized.map(lambda l: [stemmer.stem(word) for word in l])\n",
    "val_df.stemmed = val_df.stemmed.str.join(sep=' ')\n",
    "\n",
    "test_df['stemmed'] = test_df.lemmatized.map(lambda l: [stemmer.stem(word) for word in l])\n",
    "test_df.stemmed = test_df.stemmed.str.join(sep=' ')"
   ]
  },
  {
   "cell_type": "markdown",
   "metadata": {
    "id": "KvcBsQj7aq8Z"
   },
   "source": [
    "Preprocessing..."
   ]
  },
  {
   "cell_type": "code",
   "execution_count": 8,
   "metadata": {
    "colab": {
     "base_uri": "https://localhost:8080/",
     "height": 85
    },
    "id": "gmNXwBhwYMtZ",
    "outputId": "388d12c9-8bda-4901-b612-52336e3e9e82",
    "scrolled": true
   },
   "outputs": [
    {
     "data": {
      "text/plain": [
       "<16000x10082 sparse matrix of type '<class 'numpy.int64'>'\n",
       "\twith 136700 stored elements in Compressed Sparse Row format>"
      ]
     },
     "metadata": {},
     "output_type": "display_data"
    },
    {
     "data": {
      "text/plain": [
       "<2000x10082 sparse matrix of type '<class 'numpy.int64'>'\n",
       "\twith 16253 stored elements in Compressed Sparse Row format>"
      ]
     },
     "metadata": {},
     "output_type": "display_data"
    },
    {
     "data": {
      "text/plain": [
       "<2000x10082 sparse matrix of type '<class 'numpy.int64'>'\n",
       "\twith 16432 stored elements in Compressed Sparse Row format>"
      ]
     },
     "metadata": {},
     "output_type": "display_data"
    }
   ],
   "source": [
    "cv = CountVectorizer(stop_words='english')\n",
    "train_ppd_df = cv.fit_transform(train_df[\"stemmed\"])\n",
    "val_ppd_df = cv.transform(val_df[\"stemmed\"])\n",
    "test_ppd_df = cv.transform(test_df[\"stemmed\"])\n",
    "\n",
    "\n",
    "display(train_ppd_df)\n",
    "display(val_ppd_df)\n",
    "display(test_ppd_df)"
   ]
  },
  {
   "cell_type": "code",
   "execution_count": 9,
   "metadata": {
    "id": "uPJ4niqqc9tI",
    "scrolled": true
   },
   "outputs": [],
   "source": [
    "train_labels = np.array(train_df['label'])\n",
    "val_labels = np.array(val_df['label'])\n",
    "test_labels = np.array(test_df['label'])"
   ]
  },
  {
   "cell_type": "markdown",
   "metadata": {
    "id": "KvcBsQj7aq8Z"
   },
   "source": [
    "Now training our model with Multinomial Naive Bayes and testing the accuracy with validation data"
   ]
  },
  {
   "cell_type": "code",
   "execution_count": 10,
   "metadata": {},
   "outputs": [
    {
     "name": "stdout",
     "output_type": "stream",
     "text": [
      "Accuracy Score ->  78.4\n"
     ]
    },
    {
     "data": {
      "text/plain": [
       "array([[512,  25,   0,   6,   6,   1],\n",
       "       [ 40, 647,   5,   8,   4,   0],\n",
       "       [ 29,  77,  68,   3,   1,   0],\n",
       "       [ 45,  33,   2, 188,   7,   0],\n",
       "       [ 35,  24,   0,   7, 144,   2],\n",
       "       [ 29,  32,   1,   1,   9,   9]])"
      ]
     },
     "execution_count": 10,
     "metadata": {},
     "output_type": "execute_result"
    }
   ],
   "source": [
    "mnb = MultinomialNB()\n",
    "mnb.fit(train_ppd_df,train_labels)\n",
    "val_predictions_NB = mnb.predict(val_ppd_df)\n",
    "\n",
    "print(\"Accuracy Score -> \",accuracy_score(val_predictions_NB, val_labels)*100)\n",
    "confusion_matrix(y_true=val_labels, y_pred=val_predictions_NB)"
   ]
  },
  {
   "cell_type": "markdown",
   "metadata": {
    "id": "KvcBsQj7aq8Z"
   },
   "source": [
    "Now testing the accuracy with test data"
   ]
  },
  {
   "cell_type": "code",
   "execution_count": 11,
   "metadata": {
    "colab": {
     "base_uri": "https://localhost:8080/"
    },
    "id": "jk3LcMqTcbk8",
    "outputId": "de61a559-6553-4744-c752-8ab4bcad3ebe"
   },
   "outputs": [
    {
     "name": "stdout",
     "output_type": "stream",
     "text": [
      "Accuracy Score ->  77.55\n"
     ]
    },
    {
     "data": {
      "text/plain": [
       "array([[528,  38,   2,   8,   5,   0],\n",
       "       [ 22, 653,   8,   7,   5,   0],\n",
       "       [ 27,  76,  51,   4,   1,   0],\n",
       "       [ 58,  30,   0, 180,   7,   0],\n",
       "       [ 49,  29,   0,   9, 137,   0],\n",
       "       [ 16,  33,   0,   1,  14,   2]])"
      ]
     },
     "execution_count": 11,
     "metadata": {},
     "output_type": "execute_result"
    }
   ],
   "source": [
    "predictions_NB = mnb.predict(test_ppd_df)\n",
    "\n",
    "print(\"Accuracy Score -> \",accuracy_score(predictions_NB, test_labels)*100)\n",
    "confusion_matrix(y_true=test_labels, y_pred=predictions_NB)"
   ]
  }
 ],
 "metadata": {
  "colab": {
   "provenance": []
  },
  "kernelspec": {
   "display_name": "Python 3 (ipykernel)",
   "language": "python",
   "name": "python3"
  },
  "language_info": {
   "codemirror_mode": {
    "name": "ipython",
    "version": 3
   },
   "file_extension": ".py",
   "mimetype": "text/x-python",
   "name": "python",
   "nbconvert_exporter": "python",
   "pygments_lexer": "ipython3",
   "version": "3.10.8"
  }
 },
 "nbformat": 4,
 "nbformat_minor": 1
}
