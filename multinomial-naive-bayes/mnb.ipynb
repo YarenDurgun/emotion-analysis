{
 "cells": [
  {
   "cell_type": "code",
   "execution_count": 1,
   "metadata": {
    "id": "lGn8lqEO6rM1"
   },
   "outputs": [],
   "source": [
    "from collections import defaultdict\n",
    "import pandas as pd\n",
    "import numpy as np\n",
    "import io\n",
    "import seaborn as sns\n",
    "import matplotlib.pyplot as plt\n",
    "\n",
    "import nltk\n",
    "#nltk.download () # Download only required or all -> press d, type all, type quit after\n",
    "from nltk.tokenize import word_tokenize\n",
    "from nltk import pos_tag\n",
    "from nltk.corpus import stopwords\n",
    "from nltk.stem import WordNetLemmatizer\n",
    "from nltk.corpus import wordnet as wn\n",
    "from nltk.stem.snowball import SnowballStemmer\n",
    "from sklearn.model_selection import train_test_split\n",
    "\n",
    "from sklearn.metrics import precision_score, accuracy_score, f1_score, confusion_matrix, recall_score\n",
    "from sklearn.feature_extraction.text import CountVectorizer\n",
    "from sklearn.naive_bayes import MultinomialNB"
   ]
  },
  {
   "cell_type": "code",
   "execution_count": 2,
   "metadata": {
    "id": "wfhBZiBj9_Ac"
   },
   "outputs": [],
   "source": [
    "train_path = \"content/training.csv\"\n",
    "val_path = \"content/validation.csv\"\n",
    "test_path = \"content/test.csv\"\n",
    "\n",
    "train_df = pd.read_csv(train_path)\n",
    "val_df = pd.read_csv(val_path)\n",
    "test_df = pd.read_csv(test_path)"
   ]
  },
  {
   "cell_type": "code",
   "execution_count": 3,
   "metadata": {},
   "outputs": [
    {
     "data": {
      "text/plain": [
       "<BarContainer object of 6 artists>"
      ]
     },
     "execution_count": 3,
     "metadata": {},
     "output_type": "execute_result"
    },
    {
     "data": {
      "image/png": "[encoded data removed]",
      "text/plain": [
       "<Figure size 640x480 with 1 Axes>"
      ]
     },
     "metadata": {},
     "output_type": "display_data"
    }
   ],
   "source": [
    "sadness = train_df[train_df['label'] == 0]\n",
    "joy = train_df[train_df['label'] == 1]\n",
    "love = train_df[train_df['label'] == 2]\n",
    "anger = train_df[train_df['label'] == 3]\n",
    "fear = train_df[train_df['label'] == 4]\n",
    "suprise = train_df[train_df['label'] == 5]\n",
    "\n",
    "x = [\"Sadness\", \"Joy\", \"Love\", \"Anger\", \"Fear\", \"Surprise\"]\n",
    "y = [len(sadness), len(joy), len(love), len(anger), len(fear), len(suprise)]\n",
    "\n",
    "plt.yticks(y)\n",
    "plt.xlabel(\"Class Labels\")\n",
    "plt.ylabel(\"Number of Instances\")\n",
    "plt.title(\"Training Data\")\n",
    "plt.bar(x,y)"
   ]
  },
  {
   "cell_type": "markdown",
   "metadata": {},
   "source": [
    "Tokenization method to tokenize our datasets"
   ]
  },
  {
   "cell_type": "code",
   "execution_count": 4,
   "metadata": {
    "id": "FreHSkdM-eE8"
   },
   "outputs": [],
   "source": [
    "def tokenize(column):\n",
    "    tokens = nltk.word_tokenize(column)\n",
    "    return [w for w in tokens if w.isalpha()]  "
   ]
  },
  {
   "cell_type": "code",
   "execution_count": 5,
   "metadata": {
    "id": "IourfoJ4AG_A"
   },
   "outputs": [
    {
     "name": "stdout",
     "output_type": "stream",
     "text": [
      "0                             [i, didnt, feel, humiliated]\n",
      "1        [i, can, go, from, feeling, so, hopeless, to, ...\n",
      "2        [im, grabbing, a, minute, to, post, i, feel, g...\n",
      "3        [i, am, ever, feeling, nostalgic, about, the, ...\n",
      "4                                [i, am, feeling, grouchy]\n",
      "                               ...                        \n",
      "15995    [i, just, had, a, very, brief, time, in, the, ...\n",
      "15996    [i, am, now, turning, and, i, feel, pathetic, ...\n",
      "15997                [i, feel, strong, and, good, overall]\n",
      "15998    [i, feel, like, this, was, such, a, rude, comm...\n",
      "15999    [i, know, a, lot, but, i, feel, so, stupid, be...\n",
      "Name: tokenized, Length: 16000, dtype: object\n"
     ]
    }
   ],
   "source": [
    "train_df['tokenized'] = train_df.apply(lambda x: tokenize(x['text']), axis=1)\n",
    "val_df['tokenized'] = val_df.apply(lambda x: tokenize(x['text']), axis=1)\n",
    "test_df['tokenized'] = test_df.apply(lambda x: tokenize(x['text']), axis=1)\n",
    "\n",
    "print(train_df['tokenized'])"
   ]
  },
  {
   "cell_type": "code",
   "execution_count": 9,
   "metadata": {
    "colab": {
     "base_uri": "https://localhost:8080/"
    },
    "id": "ouC8E6rhFDVx",
    "outputId": "9a1337af-aeec-4821-fcd2-71ad455645ba"
   },
   "outputs": [],
   "source": [
    "lmtzr = WordNetLemmatizer()\n",
    "train_df['lemmatized'] = train_df['tokenized'].apply(\n",
    "                    lambda lst:[lmtzr.lemmatize(word) for word in lst])\n",
    "train_df.lemmatized = train_df.lemmatized.str.join(sep=' ')\n",
    "val_df['lemmatized'] = val_df['tokenized'].apply(\n",
    "                   lambda lst:[lmtzr.lemmatize(word) for word in lst])\n",
    "val_df.lemmatized = val_df.lemmatized.str.join(sep=' ')\n",
    "test_df['lemmatized'] = test_df['tokenized'].apply(\n",
    "                   lambda lst:[lmtzr.lemmatize(word) for word in lst])\n",
    "test_df.lemmatized = test_df.lemmatized.str.join(sep=' ')"
   ]
  },
  {
   "cell_type": "markdown",
   "metadata": {
    "id": "uAblLA67bLeP"
   },
   "source": [
    "Stemming (Just experimented and decided to continue with lemmatizaiton)"
   ]
  },
  {
   "cell_type": "code",
   "execution_count": 10,
   "metadata": {
    "colab": {
     "base_uri": "https://localhost:8080/",
     "height": 425
    },
    "id": "rFFieocabM64",
    "outputId": "3923126b-175c-4195-97b0-076a8ea3ce24",
    "scrolled": true
   },
   "outputs": [],
   "source": [
    "stemmer = SnowballStemmer(\"english\")\n",
    "train_df['stemmed'] = train_df.tokenized.map(lambda l: [stemmer.stem(word) for word in l])\n",
    "train_df.stemmed = train_df.stemmed.str.join(sep=' ')\n",
    "\n",
    "val_df['stemmed'] = val_df.tokenized.map(lambda l: [stemmer.stem(word) for word in l])\n",
    "val_df.stemmed = val_df.stemmed.str.join(sep=' ')\n",
    "\n",
    "test_df['stemmed'] = test_df.tokenized.map(lambda l: [stemmer.stem(word) for word in l])\n",
    "test_df.stemmed = test_df.stemmed.str.join(sep=' ')"
   ]
  },
  {
   "cell_type": "markdown",
   "metadata": {
    "id": "KvcBsQj7aq8Z"
   },
   "source": [
    "Preprocessing..."
   ]
  },
  {
   "cell_type": "code",
   "execution_count": 11,
   "metadata": {
    "colab": {
     "base_uri": "https://localhost:8080/",
     "height": 85
    },
    "id": "gmNXwBhwYMtZ",
    "outputId": "388d12c9-8bda-4901-b612-52336e3e9e82",
    "scrolled": true
   },
   "outputs": [
    {
     "data": {
      "text/plain": [
       "<16000x13293 sparse matrix of type '<class 'numpy.int64'>'\n",
       "\twith 132214 stored elements in Compressed Sparse Row format>"
      ]
     },
     "metadata": {},
     "output_type": "display_data"
    },
    {
     "data": {
      "text/plain": [
       "<2000x13293 sparse matrix of type '<class 'numpy.int64'>'\n",
       "\twith 15526 stored elements in Compressed Sparse Row format>"
      ]
     },
     "metadata": {},
     "output_type": "display_data"
    },
    {
     "data": {
      "text/plain": [
       "<2000x13293 sparse matrix of type '<class 'numpy.int64'>'\n",
       "\twith 15601 stored elements in Compressed Sparse Row format>"
      ]
     },
     "metadata": {},
     "output_type": "display_data"
    }
   ],
   "source": [
    "cv = CountVectorizer(stop_words='english')\n",
    "train_ppd_df = cv.fit_transform(train_df[\"lemmatized\"])\n",
    "val_ppd_df = cv.transform(val_df[\"lemmatized\"])\n",
    "test_ppd_df = cv.transform(test_df[\"lemmatized\"])\n",
    "\n",
    "\n",
    "display(train_ppd_df)\n",
    "display(val_ppd_df)\n",
    "display(test_ppd_df)"
   ]
  },
  {
   "cell_type": "code",
   "execution_count": 12,
   "metadata": {
    "id": "uPJ4niqqc9tI",
    "scrolled": true
   },
   "outputs": [],
   "source": [
    "train_labels = np.array(train_df['label'])\n",
    "val_labels = np.array(val_df['label'])\n",
    "test_labels = np.array(test_df['label'])"
   ]
  },
  {
   "cell_type": "markdown",
   "metadata": {
    "id": "KvcBsQj7aq8Z"
   },
   "source": [
    "Now training our model with Multinomial Naive Bayes and testing the accuracy with validation data"
   ]
  },
  {
   "cell_type": "code",
   "execution_count": 13,
   "metadata": {},
   "outputs": [
    {
     "name": "stdout",
     "output_type": "stream",
     "text": [
      "Accuracy Score ->  80.35\n"
     ]
    },
    {
     "data": {
      "text/plain": [
       "array([[517,  19,   1,   6,   6,   1],\n",
       "       [ 30, 664,   5,   4,   1,   0],\n",
       "       [ 35,  72,  70,   0,   1,   0],\n",
       "       [ 45,  29,   0, 197,   4,   0],\n",
       "       [ 36,  23,   0,   6, 146,   1],\n",
       "       [ 26,  30,   0,   1,  11,  13]])"
      ]
     },
     "execution_count": 13,
     "metadata": {},
     "output_type": "execute_result"
    }
   ],
   "source": [
    "mnb = MultinomialNB()\n",
    "mnb.fit(train_ppd_df,train_labels)\n",
    "val_predictions_NB = mnb.predict(val_ppd_df)\n",
    "\n",
    "print(\"Accuracy Score -> \",accuracy_score(val_predictions_NB, val_labels)*100)\n",
    "confusion_matrix(y_true=val_labels, y_pred=val_predictions_NB)"
   ]
  },
  {
   "cell_type": "markdown",
   "metadata": {
    "id": "KvcBsQj7aq8Z"
   },
   "source": [
    "Now testing the accuracy with test data"
   ]
  },
  {
   "cell_type": "code",
   "execution_count": 14,
   "metadata": {
    "colab": {
     "base_uri": "https://localhost:8080/"
    },
    "id": "jk3LcMqTcbk8",
    "outputId": "de61a559-6553-4744-c752-8ab4bcad3ebe"
   },
   "outputs": [
    {
     "name": "stdout",
     "output_type": "stream",
     "text": [
      "Accuracy Score ->  79.45\n"
     ]
    },
    {
     "data": {
      "text/plain": [
       "array([[541,  29,   1,   5,   5,   0],\n",
       "       [ 17, 669,   5,   1,   3,   0],\n",
       "       [ 26,  77,  52,   4,   0,   0],\n",
       "       [ 53,  32,   0, 184,   6,   0],\n",
       "       [ 52,  26,   0,   8, 138,   0],\n",
       "       [ 18,  29,   0,   1,  13,   5]])"
      ]
     },
     "execution_count": 14,
     "metadata": {},
     "output_type": "execute_result"
    }
   ],
   "source": [
    "predictions_NB = mnb.predict(test_ppd_df)\n",
    "\n",
    "print(\"Accuracy Score -> \",accuracy_score(predictions_NB, test_labels)*100)\n",
    "confusion_matrix(y_true=test_labels, y_pred=predictions_NB)"
   ]
  }
 ],
 "metadata": {
  "colab": {
   "provenance": []
  },
  "kernelspec": {
   "display_name": "Python 3 (ipykernel)",
   "language": "python",
   "name": "python3"
  },
  "language_info": {
   "codemirror_mode": {
    "name": "ipython",
    "version": 3
   },
   "file_extension": ".py",
   "mimetype": "text/x-python",
   "name": "python",
   "nbconvert_exporter": "python",
   "pygments_lexer": "ipython3",
   "version": "3.9.13"
  }
 },
 "nbformat": 4,
 "nbformat_minor": 1
}
